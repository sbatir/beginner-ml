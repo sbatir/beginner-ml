{
 "cells": [
  {
   "cell_type": "code",
   "execution_count": 1,
   "id": "2245f111",
   "metadata": {},
   "outputs": [],
   "source": [
    "import numpy as np"
   ]
  },
  {
   "cell_type": "code",
   "execution_count": 2,
   "id": "5f6452fc",
   "metadata": {},
   "outputs": [
    {
     "name": "stdout",
     "output_type": "stream",
     "text": [
      "[[1 2 3]\n",
      " [4 5 6]\n",
      " [7 8 9]]\n",
      "[[2 3]\n",
      " [5 6]]\n",
      "6\n"
     ]
    }
   ],
   "source": [
    "mtx = np.array([[1,2,3],[4,5,6],[7,8,9]])\n",
    "print (mtx)\n",
    "\n",
    "#SLICING\n",
    "subMtx = mtx[0:2, 1:3]\n",
    "print(subMtx)\n",
    "\n",
    "#INDEX\n",
    "\n",
    "ele = mtx[1,2]\n",
    "print(ele)"
   ]
  },
  {
   "cell_type": "code",
   "execution_count": 3,
   "id": "0cf618d5",
   "metadata": {},
   "outputs": [
    {
     "name": "stdout",
     "output_type": "stream",
     "text": [
      "[10 40 90]\n"
     ]
    }
   ],
   "source": [
    "#element wise multiplication \n",
    "\n",
    "a = np.array([2,4,6])\n",
    "b = np.array([5,10,15])\n",
    "\n",
    "mulRes = np.multiply(a,b)\n",
    "print(mulRes)"
   ]
  },
  {
   "cell_type": "code",
   "execution_count": 4,
   "id": "f2be4404",
   "metadata": {},
   "outputs": [
    {
     "name": "stdout",
     "output_type": "stream",
     "text": [
      "140\n"
     ]
    }
   ],
   "source": [
    "#Matrix multiplication \n",
    "\n",
    "dotRes = np.dot(a,b)\n",
    "print(dotRes)"
   ]
  },
  {
   "cell_type": "code",
   "execution_count": 5,
   "id": "a9b4d4ce",
   "metadata": {},
   "outputs": [
    {
     "name": "stdout",
     "output_type": "stream",
     "text": [
      "[  7.3890561   54.59815003 403.42879349]\n"
     ]
    }
   ],
   "source": [
    "#exponential \n",
    "expRes = np.exp(a)\n",
    "print(expRes)"
   ]
  },
  {
   "cell_type": "code",
   "execution_count": 6,
   "id": "657f9443",
   "metadata": {},
   "outputs": [
    {
     "name": "stdout",
     "output_type": "stream",
     "text": [
      "[[ 2  2  4]\n",
      " [ 5  5  7]\n",
      " [ 8  8 10]]\n"
     ]
    }
   ],
   "source": [
    "#broadcasting in action \n",
    "\n",
    "matrix = np.array([[1,2,3], [4,5,6], [7,8,9]])\n",
    "vector = np.array([1,0,1])\n",
    "result = matrix + vector\n",
    "print(result)"
   ]
  },
  {
   "cell_type": "code",
   "execution_count": 7,
   "id": "f1f8d167",
   "metadata": {},
   "outputs": [
    {
     "name": "stdout",
     "output_type": "stream",
     "text": [
      "[40 50]\n"
     ]
    }
   ],
   "source": [
    "#boolean indexing \n",
    "data = np.array([10, 20, 30, 40, 50])\n",
    "filtered = data[data >35]\n",
    "print(filtered)"
   ]
  },
  {
   "cell_type": "code",
   "execution_count": 11,
   "id": "90d843eb",
   "metadata": {},
   "outputs": [
    {
     "name": "stdout",
     "output_type": "stream",
     "text": [
      "Original weights:  [-1.03931009  0.78101114  0.96362717 -0.92982562  1.21760195]\n"
     ]
    }
   ],
   "source": [
    "#initialize \n",
    "\n",
    "weights = np.random.randn(5)\n",
    "print(\"Original weights: \", weights)"
   ]
  },
  {
   "cell_type": "code",
   "execution_count": 12,
   "id": "890f5ad2",
   "metadata": {},
   "outputs": [
    {
     "name": "stdout",
     "output_type": "stream",
     "text": [
      "Adjusted weights:  [-1.04431009  0.78201114  0.95562717 -0.92932562  1.20860195]\n"
     ]
    }
   ],
   "source": [
    "learning_rate = 0.01\n",
    "gradient = np.array([0.5, -0.1, 0.8, -0.05, 0.9])\n",
    "weights -= learning_rate* gradient\n",
    "print(\"Adjusted weights: \", weights)"
   ]
  },
  {
   "cell_type": "code",
   "execution_count": 13,
   "id": "61d584b3",
   "metadata": {},
   "outputs": [
    {
     "name": "stdout",
     "output_type": "stream",
     "text": [
      "[[0. 1. 0. 0.]\n",
      " [0. 0. 1. 0.]\n",
      " [0. 0. 0. 1.]\n",
      " [1. 0. 0. 0.]]\n"
     ]
    }
   ],
   "source": [
    "#sample sentences\n",
    "sentence = \"I am learning AI\"\n",
    "\n",
    "#Convert to 1-hot encoded vecotr\n",
    "\n",
    "vocab = sorted(set(sentence.split()))\n",
    "one_hot_vectors = np.zeros((len(sentence.split()), len(vocab)))\n",
    "\n",
    "for i, word in enumerate(sentence.split()):\n",
    "    one_hot_vectors[i, vocab.index(word)] = 1\n",
    "    \n",
    "print(one_hot_vectors)"
   ]
  }
 ],
 "metadata": {
  "kernelspec": {
   "display_name": "Python 3 (ipykernel)",
   "language": "python",
   "name": "python3"
  },
  "language_info": {
   "codemirror_mode": {
    "name": "ipython",
    "version": 3
   },
   "file_extension": ".py",
   "mimetype": "text/x-python",
   "name": "python",
   "nbconvert_exporter": "python",
   "pygments_lexer": "ipython3",
   "version": "3.9.16"
  }
 },
 "nbformat": 4,
 "nbformat_minor": 5
}
