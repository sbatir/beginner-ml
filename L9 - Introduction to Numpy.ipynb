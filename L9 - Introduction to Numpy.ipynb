{
 "cells": [
  {
   "cell_type": "code",
   "execution_count": 1,
   "id": "6c62813c",
   "metadata": {},
   "outputs": [],
   "source": [
    "import numpy as np"
   ]
  },
  {
   "cell_type": "code",
   "execution_count": 2,
   "id": "ee793c73",
   "metadata": {},
   "outputs": [
    {
     "name": "stdout",
     "output_type": "stream",
     "text": [
      "[0 2 4 6]\n"
     ]
    }
   ],
   "source": [
    "oneDimension = np.array([0,2,4,6])\n",
    "print(oneDimension)"
   ]
  },
  {
   "cell_type": "code",
   "execution_count": 3,
   "id": "f0682bc1",
   "metadata": {},
   "outputs": [
    {
     "name": "stdout",
     "output_type": "stream",
     "text": [
      "[[1 2]\n",
      " [3 4]\n",
      " [5 6]]\n"
     ]
    }
   ],
   "source": [
    "twoDimension = np.array([[1,2], [3,4], [5,6]])\n",
    "print(twoDimension)"
   ]
  },
  {
   "cell_type": "code",
   "execution_count": 4,
   "id": "4c0b6385",
   "metadata": {},
   "outputs": [
    {
     "name": "stdout",
     "output_type": "stream",
     "text": [
      "(3, 2)\n"
     ]
    }
   ],
   "source": [
    "print(twoDimension.shape)"
   ]
  },
  {
   "cell_type": "code",
   "execution_count": 6,
   "id": "facf3b36",
   "metadata": {},
   "outputs": [],
   "source": [
    "twoDim_reshape = twoDimension.reshape(2,3)"
   ]
  },
  {
   "cell_type": "code",
   "execution_count": 7,
   "id": "52d9d96a",
   "metadata": {},
   "outputs": [
    {
     "name": "stdout",
     "output_type": "stream",
     "text": [
      "[[1 2 3]\n",
      " [4 5 6]]\n"
     ]
    }
   ],
   "source": [
    "print(twoDim_reshape)"
   ]
  },
  {
   "cell_type": "code",
   "execution_count": 8,
   "id": "6de5c876",
   "metadata": {},
   "outputs": [
    {
     "name": "stdout",
     "output_type": "stream",
     "text": [
      "[[0. 0.]\n",
      " [0. 0.]]\n"
     ]
    }
   ],
   "source": [
    "zeroMatrix = np.zeros((2,2))\n",
    "print(zeroMatrix)"
   ]
  },
  {
   "cell_type": "code",
   "execution_count": 10,
   "id": "1978e150",
   "metadata": {},
   "outputs": [
    {
     "name": "stdout",
     "output_type": "stream",
     "text": [
      "[[1. 1.]\n",
      " [1. 1.]]\n"
     ]
    }
   ],
   "source": [
    "oneMatrix = np.ones((2,2))\n",
    "print(oneMatrix)"
   ]
  },
  {
   "cell_type": "code",
   "execution_count": 11,
   "id": "fd1310e5",
   "metadata": {},
   "outputs": [
    {
     "name": "stdout",
     "output_type": "stream",
     "text": [
      "[10 10 10]\n"
     ]
    }
   ],
   "source": [
    "a = np.array([2,2,2])\n",
    "b = np.array([8, 8, 8])\n",
    "\n",
    "print(a+b)"
   ]
  },
  {
   "cell_type": "code",
   "execution_count": 12,
   "id": "607d5bc7",
   "metadata": {},
   "outputs": [
    {
     "name": "stdout",
     "output_type": "stream",
     "text": [
      "48\n"
     ]
    }
   ],
   "source": [
    "output = np.dot(a,b)\n",
    "print(output)"
   ]
  },
  {
   "cell_type": "code",
   "execution_count": 13,
   "id": "b7753a07",
   "metadata": {},
   "outputs": [
    {
     "name": "stdout",
     "output_type": "stream",
     "text": [
      "[[2 3]\n",
      " [5 6]]\n"
     ]
    }
   ],
   "source": [
    "matrix = np.array([[1,2,3], [4,5,6], [7,8,9]])\n",
    "print(matrix[0:2, 1:3])"
   ]
  }
 ],
 "metadata": {
  "kernelspec": {
   "display_name": "Python 3 (ipykernel)",
   "language": "python",
   "name": "python3"
  },
  "language_info": {
   "codemirror_mode": {
    "name": "ipython",
    "version": 3
   },
   "file_extension": ".py",
   "mimetype": "text/x-python",
   "name": "python",
   "nbconvert_exporter": "python",
   "pygments_lexer": "ipython3",
   "version": "3.9.16"
  }
 },
 "nbformat": 4,
 "nbformat_minor": 5
}
