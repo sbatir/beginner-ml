{
 "cells": [
  {
   "cell_type": "code",
   "execution_count": 4,
   "id": "52e5f772",
   "metadata": {},
   "outputs": [
    {
     "name": "stdout",
     "output_type": "stream",
     "text": [
      "(1024, 1024, 3)  , are the channels for our raw starbunny\n"
     ]
    }
   ],
   "source": [
    "#pip install opencv-python\n",
    "import cv2\n",
    "\n",
    "#load an image\n",
    "image = cv2.imread('starbunnyy.jpg')\n",
    "print(image.shape, \" , are the channels for our raw starbunny\")\n",
    "\n"
   ]
  },
  {
   "cell_type": "code",
   "execution_count": 5,
   "id": "14e10128",
   "metadata": {},
   "outputs": [],
   "source": [
    "import numpy as np"
   ]
  },
  {
   "cell_type": "code",
   "execution_count": 6,
   "id": "747be005",
   "metadata": {},
   "outputs": [
    {
     "name": "stdout",
     "output_type": "stream",
     "text": [
      "(1024, 1024) , are the channels for gray starbunny\n"
     ]
    }
   ],
   "source": [
    "gray = cv2.cvtColor(image, cv2.COLOR_BGR2GRAY)\n",
    "print(gray.shape, \", are the channels for gray starbunny\")\n",
    "hsv = cv2.cvtColor(image, cv2.COLOR_BGR2HSV)\n"
   ]
  },
  {
   "cell_type": "code",
   "execution_count": 7,
   "id": "a4af2fbf",
   "metadata": {},
   "outputs": [
    {
     "name": "stdout",
     "output_type": "stream",
     "text": [
      "[[ 7  8  8 ... 12 10 11]\n",
      " [ 5  8  6 ... 19 11 17]\n",
      " [ 7 11  8 ... 11 11  4]\n",
      " ...\n",
      " [14 14 14 ...  9  7  7]\n",
      " [17 13 14 ...  7  8 10]\n",
      " [13 13 15 ...  8  8  7]]\n"
     ]
    }
   ],
   "source": [
    "print(image[:,:,2])"
   ]
  },
  {
   "cell_type": "markdown",
   "id": "8462f040",
   "metadata": {},
   "source": [
    "blue, green, red = cv2.split(image)\n",
    "\n",
    "cv2.imshow('Blue Bunny', blue)\n",
    "cv2.imshow('Green Bunny', green)\n",
    "cv2.imshow('Red Bunny', red)\n",
    "cv2.waitKey(5000) \n",
    "cv2.destroyAllWindows()"
   ]
  },
  {
   "cell_type": "code",
   "execution_count": 8,
   "id": "447a4250",
   "metadata": {},
   "outputs": [],
   "source": [
    "blue, green, red = cv2.split(image)"
   ]
  },
  {
   "cell_type": "code",
   "execution_count": 9,
   "id": "e9330cd3",
   "metadata": {},
   "outputs": [],
   "source": [
    "zeros = np.zeros(blue.shape, np.uint8)\n",
    "\n",
    "bBunny = cv2.merge([blue,zeros,zeros])\n",
    "gBunny = cv2.merge([zeros,green,zeros])\n",
    "rBunny = cv2.merge([zeros,zeros,red])\n",
    "\n",
    "cv2.imshow('Blue Bunny', bBunny)\n",
    "cv2.imshow('Green Bunny', gBunny)\n",
    "cv2.imshow('Red Bunny', rBunny)\n",
    "cv2.waitKey(5000) \n",
    "cv2.destroyAllWindows()"
   ]
  },
  {
   "cell_type": "code",
   "execution_count": null,
   "id": "d06b00a9",
   "metadata": {},
   "outputs": [],
   "source": [
    "\n",
    "import matplotlib.pyplot as plt\n",
    "\n",
    "#historogram for our grayscale\n",
    "\n",
    "plt.hist(gray.ravel(), 256, [0, 256])\n",
    "plt.title('Grayscale Histogram')\n",
    "plt.xlabel('Pixel Intensity')\n",
    "plt.ylabel('Frequency')"
   ]
  },
  {
   "cell_type": "code",
   "execution_count": 10,
   "id": "4d05d09d",
   "metadata": {},
   "outputs": [],
   "source": [
    "#Histogram for Equalization\n",
    "equalized = cv2.equalizeHist(gray)\n",
    "\n",
    "#display the original image\n",
    "\n",
    "cv2.imshow('Original Image', gray)\n",
    "cv2.imshow('Equalized Image', equalized)\n",
    "cv2.waitKey(5000) \n",
    "cv2.destroyAllWindows()\n"
   ]
  },
  {
   "cell_type": "code",
   "execution_count": 11,
   "id": "1af015ed",
   "metadata": {},
   "outputs": [],
   "source": [
    "#increase brightness\n",
    "brightened = cv2.convertScaleAbs(image, alpha=1, beta=50)\n",
    "\n",
    "cv2.imshow('Original Image', image)\n",
    "cv2.imshow('Brightened Image', brightened)\n",
    "cv2.waitKey(5000)\n",
    "cv2.destroyAllWindows()"
   ]
  }
 ],
 "metadata": {
  "kernelspec": {
   "display_name": "Python 3 (ipykernel)",
   "language": "python",
   "name": "python3"
  },
  "language_info": {
   "codemirror_mode": {
    "name": "ipython",
    "version": 3
   },
   "file_extension": ".py",
   "mimetype": "text/x-python",
   "name": "python",
   "nbconvert_exporter": "python",
   "pygments_lexer": "ipython3",
   "version": "3.9.16"
  }
 },
 "nbformat": 4,
 "nbformat_minor": 5
}
