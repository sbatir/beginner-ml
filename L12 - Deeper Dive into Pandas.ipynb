{
 "cells": [
  {
   "cell_type": "code",
   "execution_count": 1,
   "id": "3f90fe3e",
   "metadata": {},
   "outputs": [],
   "source": [
    "import pandas as pd\n",
    "import numpy as np "
   ]
  },
  {
   "cell_type": "code",
   "execution_count": 5,
   "id": "f52d1ccc",
   "metadata": {},
   "outputs": [
    {
     "name": "stdout",
     "output_type": "stream",
     "text": [
      "      Name  Age City\n",
      "0    Alice   25   NY\n",
      "1  Charlie   35   SF\n",
      "2      Bob   30   LA\n"
     ]
    }
   ],
   "source": [
    "df = pd.DataFrame({'Name': ['Alice', 'Charlie', 'Bob'],\n",
    "                  'Age': [25, 35, 30],\n",
    "                  'City': ['NY', 'SF', 'LA']})\n",
    "print(df)"
   ]
  },
  {
   "cell_type": "code",
   "execution_count": 3,
   "id": "f7acc353",
   "metadata": {},
   "outputs": [
    {
     "name": "stdout",
     "output_type": "stream",
     "text": [
      "    Name  Age City\n",
      "0  Alice   25   NY\n"
     ]
    }
   ],
   "source": [
    "#Filtering\n",
    "young_folks = df[df['Age']<30]\n",
    "print(young_folks)"
   ]
  },
  {
   "cell_type": "code",
   "execution_count": 6,
   "id": "62d221bb",
   "metadata": {},
   "outputs": [
    {
     "name": "stdout",
     "output_type": "stream",
     "text": [
      "      Name  Age City\n",
      "0    Alice   25   NY\n",
      "2      Bob   30   LA\n",
      "1  Charlie   35   SF\n"
     ]
    }
   ],
   "source": [
    "#Sorting\n",
    "sorted_df = df.sort_values(by='Age')\n",
    "print(sorted_df)"
   ]
  },
  {
   "cell_type": "code",
   "execution_count": 7,
   "id": "c707b781",
   "metadata": {},
   "outputs": [
    {
     "name": "stdout",
     "output_type": "stream",
     "text": [
      "       Age\n",
      "City      \n",
      "LA    30.0\n",
      "NY    25.0\n",
      "SF    35.0\n"
     ]
    },
    {
     "name": "stderr",
     "output_type": "stream",
     "text": [
      "/var/folders/wb/_6w_6mz16kqdy6qhq00my1rr0000gn/T/ipykernel_51019/1548680940.py:2: FutureWarning: The default value of numeric_only in DataFrameGroupBy.mean is deprecated. In a future version, numeric_only will default to False. Either specify numeric_only or select only columns which should be valid for the function.\n",
      "  grouped_df = df.groupby('City').mean()\n"
     ]
    }
   ],
   "source": [
    "#Grouping\n",
    "grouped_df = df.groupby('City').mean()\n",
    "print(grouped_df)"
   ]
  },
  {
   "cell_type": "code",
   "execution_count": 8,
   "id": "0e269863",
   "metadata": {},
   "outputs": [
    {
     "name": "stdout",
     "output_type": "stream",
     "text": [
      "    Name   Age City\n",
      "0  Blake  24.0  BOS\n",
      "1          NaN  MIA\n",
      "2  Mason   NaN  LAS\n"
     ]
    }
   ],
   "source": [
    "df_empty = pd.DataFrame({'Name': ['Blake', '', 'Mason'],\n",
    "                        'Age': [24, np.nan, np.nan],\n",
    "                        'City': ['BOS', 'MIA', 'LAS']})\n",
    "print(df_empty)"
   ]
  },
  {
   "cell_type": "code",
   "execution_count": 9,
   "id": "798e407e",
   "metadata": {},
   "outputs": [
    {
     "name": "stdout",
     "output_type": "stream",
     "text": [
      "    Name   Age City\n",
      "0  Blake  24.0  BOS\n",
      "1  Marji   NaN  MIA\n",
      "2  Mason   NaN  LAS\n"
     ]
    }
   ],
   "source": [
    "#replacement \n",
    "\n",
    "df_filled = df_empty.replace('', 'Marji')\n",
    "print(df_filled)"
   ]
  },
  {
   "cell_type": "code",
   "execution_count": 10,
   "id": "483f283f",
   "metadata": {},
   "outputs": [
    {
     "name": "stdout",
     "output_type": "stream",
     "text": [
      "    Name   Age City\n",
      "0  Blake  24.0  BOS\n"
     ]
    }
   ],
   "source": [
    "df_dropped = df_empty.dropna()\n",
    "print(df_dropped)"
   ]
  },
  {
   "cell_type": "code",
   "execution_count": 11,
   "id": "2e34c361",
   "metadata": {},
   "outputs": [
    {
     "name": "stdout",
     "output_type": "stream",
     "text": [
      "24.0\n",
      "0    24.0\n",
      "1    24.0\n",
      "2    24.0\n",
      "Name: Age, dtype: float64\n"
     ]
    }
   ],
   "source": [
    "#Imputation \n",
    "mean_age = df_empty['Age'].mean()\n",
    "print(mean_age)\n",
    "df_empty['Age'] = df_empty['Age'].fillna(mean_age)\n",
    "print(df_empty['Age'])"
   ]
  },
  {
   "cell_type": "code",
   "execution_count": 12,
   "id": "6c09239c",
   "metadata": {},
   "outputs": [
    {
     "name": "stdout",
     "output_type": "stream",
     "text": [
      "    Name   Age City\n",
      "0  Blake  24.0  BOS\n",
      "1         24.0  MIA\n",
      "2  Mason  24.0  LAS\n"
     ]
    }
   ],
   "source": [
    "print(df_empty)"
   ]
  }
 ],
 "metadata": {
  "kernelspec": {
   "display_name": "Python 3 (ipykernel)",
   "language": "python",
   "name": "python3"
  },
  "language_info": {
   "codemirror_mode": {
    "name": "ipython",
    "version": 3
   },
   "file_extension": ".py",
   "mimetype": "text/x-python",
   "name": "python",
   "nbconvert_exporter": "python",
   "pygments_lexer": "ipython3",
   "version": "3.9.16"
  }
 },
 "nbformat": 4,
 "nbformat_minor": 5
}
