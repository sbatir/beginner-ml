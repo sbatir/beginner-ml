{
 "cells": [
  {
   "cell_type": "code",
   "execution_count": 1,
   "id": "c9cf59fb",
   "metadata": {},
   "outputs": [],
   "source": [
    "import numpy as np\n",
    "import pandas as pd \n"
   ]
  },
  {
   "cell_type": "code",
   "execution_count": 2,
   "id": "c3706466",
   "metadata": {},
   "outputs": [],
   "source": [
    "#Lists - Store your collection in a specific order \n",
    "\n",
    "founders = [\"Ada Lovelace\", \"Grace Hopper\", \"Alan Turing\"]"
   ]
  },
  {
   "cell_type": "code",
   "execution_count": 7,
   "id": "e61474c3",
   "metadata": {},
   "outputs": [
    {
     "name": "stdout",
     "output_type": "stream",
     "text": [
      "['Ada Lovelace', 'Grace Hopper', 'Alan Turing', 'John McCarthy']\n",
      "['Ada Lovelace', 'Grace Hopper', 'John McCarthy']\n"
     ]
    }
   ],
   "source": [
    "# List Methods - Append, Len, Slice, Sort, Remove \n",
    "#print(founders)\n",
    "#founders.append(\"John McCarthy\")\n",
    "#print(founders)\n",
    "#twoFounders = founders[1:3]\n",
    "#print(twoFounders)\n",
    "print(founders)\n",
    "founders.remove(\"Alan Turing\")\n",
    "print(founders)"
   ]
  },
  {
   "cell_type": "code",
   "execution_count": 2,
   "id": "70605a63",
   "metadata": {},
   "outputs": [
    {
     "name": "stdout",
     "output_type": "stream",
     "text": [
      "Reinforcement Learning\n"
     ]
    }
   ],
   "source": [
    "#Tuples - Once written, these Tomes cannot be changed!\n",
    "\n",
    "aiTopics = (\"Machine Learning\", \"Generative AI\", \"Robotics\", \"Reinforcement Learning\")\n",
    "\n",
    "print(aiTopics[3])"
   ]
  },
  {
   "cell_type": "code",
   "execution_count": 12,
   "id": "721a8649",
   "metadata": {},
   "outputs": [
    {
     "name": "stdout",
     "output_type": "stream",
     "text": [
      "We've used the phoenix ash 1 times!\n",
      "The unicorn horn is the 2th ingredient!\n"
     ]
    }
   ],
   "source": [
    "#Tuple Methods - Uniquely defined. \n",
    "\n",
    "#Membership - Does it exist in a container?\"\n",
    "#print(\"Generative AI\" in aiTopics)\n",
    "\n",
    "wizardry = (\"basilisk scale,\" \"phoenix ash\", \"unicorn horn\", \"newt eye\", \"phoenix ash\")\n",
    "ashCount = wizardry.count(\"phoenix ash\")\n",
    "print(f\"We've used the phoenix ash {ashCount} times!\")\n",
    "\n",
    "whereUnicorn = wizardry.index(\"unicorn horn\")\n",
    "print(f\"The unicorn horn is the {whereUnicorn + 1}th ingredient!\") "
   ]
  },
  {
   "cell_type": "code",
   "execution_count": 3,
   "id": "5867b679",
   "metadata": {},
   "outputs": [
    {
     "name": "stdout",
     "output_type": "stream",
     "text": [
      "System modeled on brain, with input, hidden, and output layers.\n"
     ]
    }
   ],
   "source": [
    "#Dictionaries: Every word (key) is defined (value). \n",
    "#Use to map categories / labels to predictions, or features to values\n",
    "\n",
    "algorithms = {\n",
    "    \"Neural Network\": \"System modeled on brain, with input, hidden, and output layers.\",\n",
    "    \"Decision Tree\": \"Breaks down a decision by each step.\",\n",
    "    \"Backpropagation\": \"Optimization algorithm to minimize error in an ANN.\"\n",
    "}\n",
    "\n",
    "#print(algorithms)\n",
    "algorithms[\"SVM\"] = \"Classify data by finding optimal hyperplane dividing datasets into classes.\"\n",
    "print(algorithms[\"Neural Network\"])"
   ]
  },
  {
   "cell_type": "code",
   "execution_count": 4,
   "id": "d474e717",
   "metadata": {},
   "outputs": [
    {
     "name": "stdout",
     "output_type": "stream",
     "text": [
      "Neural Network: System modeled on brain, with input, hidden, and output layers.\n",
      "Decision Tree: Breaks down a decision by each step.\n",
      "Backpropagation: Optimization algorithm to minimize error in an ANN.\n",
      "SVM: Classify data by finding optimal hyperplane dividing datasets into classes.\n",
      "None\n"
     ]
    }
   ],
   "source": [
    "#Dictionary Methods - Iterate and Get \n",
    "\n",
    "for algorithm, description in algorithms.items():\n",
    "    print(f\"{algorithm}: {description}\")\n",
    "    \n",
    "description = algorithms.get(\"Random Forest\")\n",
    "print(description)"
   ]
  },
  {
   "cell_type": "code",
   "execution_count": 24,
   "id": "50ef64c9",
   "metadata": {},
   "outputs": [
    {
     "name": "stdout",
     "output_type": "stream",
     "text": [
      "{'TensorFlow', 'ONNX', 'Keras', 'PyTorch'}\n"
     ]
    }
   ],
   "source": [
    "#Sets - Removes Duplicate Data Points\n",
    "\n",
    "tools = {\"PyTorch\", \"TensorFlow\", \"Keras\", \"ONNX\", \"PyTorch\"}\n",
    "print(tools)"
   ]
  },
  {
   "cell_type": "code",
   "execution_count": 5,
   "id": "fa307d3c",
   "metadata": {},
   "outputs": [
    {
     "ename": "NameError",
     "evalue": "name 'tools' is not defined",
     "output_type": "error",
     "traceback": [
      "\u001b[0;31m---------------------------------------------------------------------------\u001b[0m",
      "\u001b[0;31mNameError\u001b[0m                                 Traceback (most recent call last)",
      "Cell \u001b[0;32mIn[5], line 4\u001b[0m\n\u001b[1;32m      1\u001b[0m \u001b[38;5;66;03m#Set Methods - Find Intersect, Add to the Set. \u001b[39;00m\n\u001b[1;32m      3\u001b[0m moreTools \u001b[38;5;241m=\u001b[39m {\u001b[38;5;124m\"\u001b[39m\u001b[38;5;124mScikit-learn\u001b[39m\u001b[38;5;124m\"\u001b[39m, \u001b[38;5;124m\"\u001b[39m\u001b[38;5;124mTensorFlow\u001b[39m\u001b[38;5;124m\"\u001b[39m}\n\u001b[0;32m----> 4\u001b[0m commonTools \u001b[38;5;241m=\u001b[39m \u001b[43mtools\u001b[49m\u001b[38;5;241m.\u001b[39mintersection(moreTools)\n\u001b[1;32m      5\u001b[0m \u001b[38;5;28mprint\u001b[39m(commonTools)  \u001b[38;5;66;03m# Outputs: {'TensorFlow'}\u001b[39;00m\n\u001b[1;32m      7\u001b[0m \u001b[38;5;66;03m# Common ML Method: `add()` - Adding an item to the set\u001b[39;00m\n",
      "\u001b[0;31mNameError\u001b[0m: name 'tools' is not defined"
     ]
    }
   ],
   "source": [
    "#Set Methods - Find Intersect, Add to the Set. \n",
    "\n",
    "moreTools = {\"Scikit-learn\", \"TensorFlow\"}\n",
    "commonTools = tools.intersection(moreTools)\n",
    "print(commonTools)  # Outputs: {'TensorFlow'}\n",
    "\n",
    "# Common ML Method: `add()` - Adding an item to the set\n",
    "tools.add(\"Scikit-learn\")"
   ]
  },
  {
   "cell_type": "code",
   "execution_count": 26,
   "id": "4b18c727",
   "metadata": {},
   "outputs": [
    {
     "name": "stdout",
     "output_type": "stream",
     "text": [
      "{'ONNX', 'TensorFlow', 'Keras', 'PyTorch', 'Scikit-learn'}\n"
     ]
    }
   ],
   "source": [
    "print(tools)"
   ]
  }
 ],
 "metadata": {
  "kernelspec": {
   "display_name": "Python 3 (ipykernel)",
   "language": "python",
   "name": "python3"
  },
  "language_info": {
   "codemirror_mode": {
    "name": "ipython",
    "version": 3
   },
   "file_extension": ".py",
   "mimetype": "text/x-python",
   "name": "python",
   "nbconvert_exporter": "python",
   "pygments_lexer": "ipython3",
   "version": "3.9.16"
  }
 },
 "nbformat": 4,
 "nbformat_minor": 5
}
