{
 "cells": [
  {
   "cell_type": "code",
   "execution_count": 8,
   "id": "6a587096",
   "metadata": {},
   "outputs": [],
   "source": [
    "name = \"Sean\"\n",
    "age = 900\n",
    "is_student = True"
   ]
  },
  {
   "cell_type": "code",
   "execution_count": 10,
   "id": "d04fa2b7",
   "metadata": {},
   "outputs": [
    {
     "data": {
      "text/plain": [
       "bool"
      ]
     },
     "execution_count": 10,
     "metadata": {},
     "output_type": "execute_result"
    }
   ],
   "source": [
    "type(is_student)"
   ]
  },
  {
   "cell_type": "code",
   "execution_count": 15,
   "id": "506cef4f",
   "metadata": {},
   "outputs": [
    {
     "name": "stdout",
     "output_type": "stream",
     "text": [
      "1.0\n"
     ]
    }
   ],
   "source": [
    "#Arithmetics\n",
    "\n",
    "result = 10/10\n",
    "print(result)"
   ]
  },
  {
   "cell_type": "code",
   "execution_count": 17,
   "id": "e5f62b41",
   "metadata": {},
   "outputs": [
    {
     "name": "stdout",
     "output_type": "stream",
     "text": [
      "It is soo hot!\n"
     ]
    }
   ],
   "source": [
    "temp_F = 81 \n",
    "\n",
    "if temp_F > 80:\n",
    "    print(\"It is soo hot!\")\n",
    "elif temp_F < 50:\n",
    "    print(\"It's cold outside!\")\n",
    "else: \n",
    "    print(\"The weather is perfect.\")\n",
    "    "
   ]
  },
  {
   "cell_type": "code",
   "execution_count": 18,
   "id": "65f10d14",
   "metadata": {},
   "outputs": [
    {
     "name": "stdout",
     "output_type": "stream",
     "text": [
      "kiwi\n",
      "papaya\n",
      "mango\n"
     ]
    }
   ],
   "source": [
    "fruits = [\"kiwi\", \"papaya\", \"mango\"]\n",
    "\n",
    "for fruit in fruits:\n",
    "    print(fruit)"
   ]
  },
  {
   "cell_type": "code",
   "execution_count": 20,
   "id": "fbe4f461",
   "metadata": {},
   "outputs": [
    {
     "name": "stdout",
     "output_type": "stream",
     "text": [
      "0\n",
      "1\n",
      "2\n",
      "3\n",
      "4\n",
      "5\n",
      "6\n"
     ]
    }
   ],
   "source": [
    "#repeat the action until a condition the user defines, is met. \n",
    "\n",
    "counter = 0 \n",
    "\n",
    "while counter <7:\n",
    "    print(counter)\n",
    "    counter +=1"
   ]
  }
 ],
 "metadata": {
  "kernelspec": {
   "display_name": "Python 3 (ipykernel)",
   "language": "python",
   "name": "python3"
  },
  "language_info": {
   "codemirror_mode": {
    "name": "ipython",
    "version": 3
   },
   "file_extension": ".py",
   "mimetype": "text/x-python",
   "name": "python",
   "nbconvert_exporter": "python",
   "pygments_lexer": "ipython3",
   "version": "3.9.16"
  }
 },
 "nbformat": 4,
 "nbformat_minor": 5
}
