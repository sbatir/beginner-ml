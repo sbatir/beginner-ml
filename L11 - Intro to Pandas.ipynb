{
 "cells": [
  {
   "cell_type": "code",
   "execution_count": 1,
   "id": "31283482",
   "metadata": {},
   "outputs": [],
   "source": [
    "import pandas as pd"
   ]
  },
  {
   "cell_type": "code",
   "execution_count": 2,
   "id": "d5f1bff1",
   "metadata": {},
   "outputs": [
    {
     "name": "stdout",
     "output_type": "stream",
     "text": [
      "0    1\n",
      "1    2\n",
      "2    3\n",
      "3    4\n",
      "dtype: int64\n"
     ]
    }
   ],
   "source": [
    "#Series \n",
    "\n",
    "data_series = pd.Series([1,2,3,4])\n",
    "print(data_series)"
   ]
  },
  {
   "cell_type": "code",
   "execution_count": 3,
   "id": "48576c8c",
   "metadata": {},
   "outputs": [
    {
     "name": "stdout",
     "output_type": "stream",
     "text": [
      "   Column1  Column2\n",
      "0        1        4\n",
      "1        2        5\n",
      "2        3        6\n"
     ]
    }
   ],
   "source": [
    "#DataFrame \n",
    "data_frame = pd.DataFrame({'Column1': [1,2,3], 'Column2': [4,5,6]})\n",
    "print(data_frame)"
   ]
  },
  {
   "cell_type": "code",
   "execution_count": 4,
   "id": "edc72c4c",
   "metadata": {},
   "outputs": [
    {
     "name": "stdout",
     "output_type": "stream",
     "text": [
      "     filename  width  height\n",
      "0  image1.jpg   1024     768\n",
      "1  image2.jpg   2048    1536\n"
     ]
    }
   ],
   "source": [
    "# Example: image metadata storage\n",
    "\n",
    "image_data = {'filename': ['image1.jpg', 'image2.jpg'],\n",
    "             'width': [1024, 2048],\n",
    "             'height': [768, 1536]}\n",
    "\n",
    "df_images = pd.DataFrame(image_data)\n",
    "print(df_images)"
   ]
  },
  {
   "cell_type": "code",
   "execution_count": 5,
   "id": "36a9b535",
   "metadata": {},
   "outputs": [
    {
     "name": "stdout",
     "output_type": "stream",
     "text": [
      "   id                text\n",
      "0   1         Hello world\n",
      "1   2  Pandas is the best\n"
     ]
    }
   ],
   "source": [
    "#Example: Preprocessing text data for a potential LLM \n",
    "\n",
    "text_data = {'id': [1,2],\n",
    "            'text': [\"Hello world\", \"Pandas is the best\"]}\n",
    "\n",
    "df_text = pd.DataFrame(text_data)\n",
    "print(df_text)"
   ]
  }
 ],
 "metadata": {
  "kernelspec": {
   "display_name": "Python 3 (ipykernel)",
   "language": "python",
   "name": "python3"
  },
  "language_info": {
   "codemirror_mode": {
    "name": "ipython",
    "version": 3
   },
   "file_extension": ".py",
   "mimetype": "text/x-python",
   "name": "python",
   "nbconvert_exporter": "python",
   "pygments_lexer": "ipython3",
   "version": "3.9.16"
  }
 },
 "nbformat": 4,
 "nbformat_minor": 5
}
